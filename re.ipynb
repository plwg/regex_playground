{
 "cells": [
  {
   "cell_type": "code",
   "execution_count": null,
   "metadata": {},
   "outputs": [],
   "source": [
    "import re"
   ]
  },
  {
   "cell_type": "markdown",
   "metadata": {},
   "source": [
    "# Chapter 1 Basic"
   ]
  },
  {
   "cell_type": "code",
   "execution_count": null,
   "metadata": {},
   "outputs": [],
   "source": [
    "line1 = \"start address: 0xA0, func1 address: 0xC0\"\n",
    "line2 = \"end address: 0xFF, func2 address: 0xB0\"\n",
    "\n",
    "pattern = r\"0xB0\"\n",
    "\n",
    "(bool(re.search(pattern, line1)), bool(re.search(pattern, line2)))"
   ]
  },
  {
   "cell_type": "code",
   "execution_count": null,
   "metadata": {},
   "outputs": [],
   "source": [
    "ip = \"They ate 5 apples and 5 oranges\"\n",
    "\n",
    "re.sub(r\"5\", \"five\", ip)"
   ]
  },
  {
   "cell_type": "code",
   "execution_count": null,
   "metadata": {},
   "outputs": [],
   "source": [
    "ip = \"They ate 5 apples and 5 oranges\"\n",
    "\n",
    "re.sub(r\"5\", \"five\", ip, count=1)"
   ]
  },
  {
   "cell_type": "code",
   "execution_count": null,
   "metadata": {},
   "outputs": [],
   "source": [
    "items = [\"goal\", \"new\", \"user\", \"sit\", \"eat\", \"dinner\"]\n",
    "[w for w in items if not re.search(r\"e\", w)]"
   ]
  },
  {
   "cell_type": "code",
   "execution_count": null,
   "metadata": {},
   "outputs": [],
   "source": [
    "ip = \"This note should not be NoTeD\"\n",
    "re.sub(r\"note\", \"X\", ip, flags=re.I)"
   ]
  },
  {
   "cell_type": "code",
   "execution_count": null,
   "metadata": {},
   "outputs": [],
   "source": [
    "ip = b\"tiger imp goat\"\n",
    "bool(re.search(rb\"at\", ip))"
   ]
  },
  {
   "cell_type": "code",
   "execution_count": null,
   "metadata": {},
   "outputs": [],
   "source": [
    "para = \"\"\"good start\n",
    "Start working on that\n",
    "project you always wanted\n",
    "stars are shining brightly\n",
    "hi there\n",
    "start and try to\n",
    "finish the book\n",
    "bye\"\"\"\n",
    "\n",
    "pat = re.compile(\"start\", flags=re.I)\n",
    "for line in para.split(\"\\n\"):\n",
    "    if not pat.search(line):\n",
    "        print(line)"
   ]
  },
  {
   "cell_type": "code",
   "execution_count": null,
   "metadata": {},
   "outputs": [],
   "source": [
    "items = [\"goal\", \"new\", \"user\", \"sit\", \"eat\", \"dinner\"]\n",
    "\n",
    "[w for w in items if re.search(r\"a\", w) or re.search(r\"w\", w)]"
   ]
  },
  {
   "cell_type": "code",
   "execution_count": null,
   "metadata": {},
   "outputs": [],
   "source": [
    "items = [\"goal\", \"new\", \"user\", \"sit\", \"eat\", \"dinner\"]\n",
    "[w for w in items if re.search(r\"e\", w) and re.search(r\"n\", w)]"
   ]
  },
  {
   "cell_type": "code",
   "execution_count": null,
   "metadata": {},
   "outputs": [],
   "source": [
    "ip = \"start address: 0xA0, func1 address: 0xC0\"\n",
    "ip = re.sub(r\"0xA0\", \"0x7F\", ip)\n",
    "ip = re.sub(r\"0xC0\", \"0x1F\", ip)\n",
    "ip"
   ]
  },
  {
   "cell_type": "markdown",
   "metadata": {},
   "source": [
    "## Chapter 2 - Anchor"
   ]
  },
  {
   "cell_type": "code",
   "execution_count": null,
   "metadata": {},
   "outputs": [],
   "source": [
    "line1 = \"be nice\"\n",
    "line2 = '\"best!\"'\n",
    "line3 = \"better?\"\n",
    "line4 = \"oh no\\nbear spotted\"\n",
    "pat = re.compile(r\"\\Abe\")\n",
    "\n",
    "(\n",
    "    bool(pat.search(line1)),\n",
    "    bool(pat.search(line2)),\n",
    "    bool(pat.search(line3)),\n",
    "    bool(pat.search(line4)),\n",
    ")"
   ]
  },
  {
   "cell_type": "code",
   "execution_count": null,
   "metadata": {},
   "outputs": [],
   "source": [
    "words = \"bred red spread credible red.\"\n",
    "\n",
    "re.sub(r\"\\bred\\b\", \"brown\", words)"
   ]
  },
  {
   "cell_type": "code",
   "execution_count": null,
   "metadata": {},
   "outputs": [],
   "source": [
    "words = [\"hi42bye\", \"nice1423\", \"bad42\", \"cool_42a\", \"42fake\", \"_42_\"]\n",
    "[w for w in words if re.search(r\"\\B42\\B\", w)]"
   ]
  },
  {
   "cell_type": "code",
   "execution_count": null,
   "metadata": {},
   "outputs": [],
   "source": [
    "items = [\"lovely\", \"1\\ndentist\", \"2 lonely\", \"eden\", \"fly\\n\", \"dent\"]\n",
    "\n",
    "[e for e in items if re.search(r\"\\Aden\", e) or re.search(r\"ly\\Z\", e)]"
   ]
  },
  {
   "cell_type": "code",
   "execution_count": null,
   "metadata": {},
   "outputs": [],
   "source": [
    "para = \"\"\"\n",
    "(mall) call ball pall\n",
    "ball fall wall tall\n",
    "mall call ball pall\n",
    "wall mall ball fall\n",
    "mallet wallet malls\n",
    "mall:call:ball:pall\"\"\"\n",
    "\n",
    "print(re.sub(r\"^mall\\b\", \"1234\", para, flags=re.MULTILINE))"
   ]
  },
  {
   "cell_type": "code",
   "execution_count": null,
   "metadata": {},
   "outputs": [],
   "source": [
    "items = [\"lovely\", \"1\\ndentist\", \"2 lonely\", \"eden\", \"fly\\nfar\", \"dent\"]\n",
    "\n",
    "[\n",
    "    w\n",
    "    for w in items\n",
    "    if re.search(r\"^den\", w, flags=re.M) or re.search(r\"ly$\", w, flags=re.M)\n",
    "]"
   ]
  },
  {
   "cell_type": "code",
   "execution_count": null,
   "metadata": {},
   "outputs": [],
   "source": [
    "items = [\"12\\nthree\\n\", \"12\\nThree\", \"12\\nthree\\n4\", \"12\\nthree\"]\n",
    "\n",
    "[w for w in items if re.fullmatch(r\"12\\nThree\", w, flags=re.I)]"
   ]
  },
  {
   "cell_type": "code",
   "execution_count": null,
   "metadata": {},
   "outputs": [],
   "source": [
    "items = [\"handed\", \"hand\", \"handy\", \"un-handed\", \"handle\", \"hand-2\"]\n",
    "\n",
    "[re.sub(r\"hand\", \"X\", w) if re.search(r\"^hand\\B\", w) else w for w in items]"
   ]
  },
  {
   "cell_type": "code",
   "execution_count": null,
   "metadata": {},
   "outputs": [],
   "source": [
    "items = [\"handed\", \"hand\", \"handy\", \"un-handed\", \"handle\", \"hand-2\"]\n",
    "\n",
    "[re.sub(r\"e\", \"X\", w) for w in items if re.search(r\"^h\", w)]"
   ]
  },
  {
   "cell_type": "markdown",
   "metadata": {},
   "source": [
    "## Chapter 3 Alternation and Grouping"
   ]
  },
  {
   "cell_type": "code",
   "execution_count": null,
   "metadata": {},
   "outputs": [],
   "source": [
    "# TODO flashtext?"
   ]
  },
  {
   "cell_type": "code",
   "execution_count": null,
   "metadata": {},
   "outputs": [],
   "source": [
    "items = [\"lovely\", \"1\\ndentist\", \"2 lonely\", \"eden\", \"fly\\n\", \"dent\"]\n",
    "\n",
    "[w for w in items if re.search(r\"\\Aden|ly\\Z\", w)]"
   ]
  },
  {
   "cell_type": "code",
   "execution_count": null,
   "metadata": {},
   "outputs": [],
   "source": [
    "items = [\"lovely\", \"1\\ndentist\", \"2 lonely\", \"eden\", \"fly\\nfar\", \"dent\"]\n",
    "\n",
    "[w for w in items if re.search(r\"^den|ly$\", w, flags=re.M)]"
   ]
  },
  {
   "cell_type": "code",
   "execution_count": null,
   "metadata": {},
   "outputs": [],
   "source": [
    "s1 = \"creed refuse removed read\"\n",
    "s2 = \"refused reed redo received\"\n",
    "\n",
    "pat = re.compile(r\"removed|reed|received|refused\")\n",
    "\n",
    "pat.sub(\"X\", s1), pat.sub(\"X\", s2)"
   ]
  },
  {
   "cell_type": "code",
   "execution_count": null,
   "metadata": {},
   "outputs": [],
   "source": [
    "s1 = \"plate full of slate\"\n",
    "s2 = \"slated for later, don't be late\"\n",
    "\n",
    "words = [\"late\", \"later\", \"slated\"]\n",
    "pat = re.compile(\"|\".join(sorted(words, key=lambda x: len(x), reverse=True)))\n",
    "\n",
    "pat.sub(\"A\", s1), pat.sub(\"A\", s2)"
   ]
  },
  {
   "cell_type": "markdown",
   "metadata": {},
   "source": [
    "# Chapter 4 Escaping metacharacters"
   ]
  },
  {
   "cell_type": "code",
   "execution_count": null,
   "metadata": {},
   "outputs": [],
   "source": [
    "str1 = \"(9-2)*5+qty/3-(9-2)*7\"\n",
    "str2 = \"(qty+4)/2-(9-2)*5+pq/4\"\n",
    "\n",
    "re.sub(re.escape(r\"(9-2)*5\"), \"35\", str1), re.sub(re.escape(r\"(9-2)*5\"), \"35\", str2)"
   ]
  },
  {
   "cell_type": "code",
   "execution_count": null,
   "metadata": {},
   "outputs": [],
   "source": [
    "s1 = r\"2.3/(4)\\|6 foo 5.3-(4)\\|\"\n",
    "s2 = r\"(4)\\|42 - (4)\\|3\"\n",
    "s3 = \"two - (4)\\\\|\\n\"\n",
    "\n",
    "pattern = re.escape(r\"(4)\\|\")\n",
    "pattern = [r\"\\A\" + pattern, pattern + r\"\\Z\"]\n",
    "\n",
    "pat = re.compile(r\"|\".join(pattern))\n",
    "\n",
    "pat.sub(\"2\", s1), pat.sub(\"2\", s2), pat.sub(\"2\", s3)"
   ]
  },
  {
   "cell_type": "code",
   "execution_count": null,
   "metadata": {},
   "outputs": [],
   "source": [
    "items = [\"a.b\", \"3+n\", r\"x\\y\\z\", \"qty||price\", \"{n}\"]\n",
    "\n",
    "pattern = r\"|\".join([re.escape(s) for s in items])\n",
    "\n",
    "pat = re.compile(pattern)\n",
    "\n",
    "pat.sub(\"X\", \"0a.bcd\"), pat.sub(\"X\", \"E{n}AMPLE\"), pat.sub(\"X\", r\"43+n2 ax\\y\\ze\")"
   ]
  },
  {
   "cell_type": "code",
   "execution_count": null,
   "metadata": {},
   "outputs": [],
   "source": [
    "ip = \"123\\b456\"\n",
    "\n",
    "print(re.sub(r\"\\x08\", \" \", ip))"
   ]
  },
  {
   "cell_type": "code",
   "execution_count": null,
   "metadata": {},
   "outputs": [],
   "source": [
    "ip = r\"th\\er\\e ar\\e common asp\\ects among th\\e alt\\ernations\"\n",
    "re.sub(r\"\\\\\", \"\", ip)"
   ]
  },
  {
   "cell_type": "code",
   "execution_count": null,
   "metadata": {},
   "outputs": [],
   "source": [
    "ip = \"3-(a^b)+2*(a^b)-(a/b)+3\"\n",
    "eqns = [\"(a^b)\", \"(a/b)\", \"(a^b)+2\"]\n",
    "\n",
    "pat = \"|\".join([re.escape(s) for s in sorted(eqns, key=len)])"
   ]
  },
  {
   "cell_type": "markdown",
   "metadata": {},
   "source": [
    "# Chapter 5 Dot metacharacter and Quantifiers"
   ]
  },
  {
   "cell_type": "code",
   "execution_count": null,
   "metadata": {},
   "outputs": [],
   "source": [
    "ip = \"a+42//5-c pressure*3+42/5-14256\"\n",
    "\n",
    "re.sub(r\"42/{1,2}5\", \"8\", ip)"
   ]
  },
  {
   "cell_type": "code",
   "execution_count": null,
   "metadata": {},
   "outputs": [],
   "source": [
    "items = [\"handed\", \"hand\", \"handled\", \"handy\", \"unhand\", \"hands\", \"handle\"]\n",
    "\n",
    "[w for w in items if re.search(r\"\\Ahand(.?|le)\\Z\", w)]"
   ]
  },
  {
   "cell_type": "code",
   "execution_count": null,
   "metadata": {},
   "outputs": [],
   "source": [
    "eqn1 = \"a+42//5-c\"\n",
    "eqn2 = \"pressure*3+42/5-14256\"\n",
    "eqn3 = \"r*42-5/3+42///5-42/53+a\"\n",
    "\n",
    "re.split(r\"42//5\", eqn1)\n",
    "re.split(r\"42/5\", eqn2)\n",
    "re.split(r\"42/5\", eqn3)"
   ]
  },
  {
   "cell_type": "code",
   "execution_count": null,
   "metadata": {},
   "outputs": [],
   "source": [
    "s1 = \"remove the special meaning of such constructs\"\n",
    "s2 = \"characters while constructing\"\n",
    "s3 = \"input output\"\n",
    "\n",
    "pat = re.compile(r\"i.*\")\n",
    "\n",
    "pat.sub(\"\", s1)\n",
    "pat.sub(\"\", s2)\n",
    "pat.sub(\"\", s3)"
   ]
  },
  {
   "cell_type": "code",
   "execution_count": null,
   "metadata": {},
   "outputs": [],
   "source": [
    "str1 = \"a+b(addition)\"\n",
    "str2 = \"a/b(division) + c%d(#modulo)\"\n",
    "str3 = \"Hi there(greeting). Nice day(a(b)\"\n",
    "\n",
    "remove_parentheses = re.compile(r\"\\(.*?\\)\")\n",
    "\n",
    "remove_parentheses.sub(\"\", str1)\n",
    "remove_parentheses.sub(\"\", str2)\n",
    "remove_parentheses.sub(\"\", str3)"
   ]
  },
  {
   "cell_type": "code",
   "execution_count": null,
   "metadata": {},
   "outputs": [],
   "source": [
    "words = \"plink incoming tint winter in caution sentient\"\n",
    "\n",
    "change = re.compile(r\"in(ter|co|t|g|k)?|ion\")\n",
    "change.sub(\"X\", words)"
   ]
  },
  {
   "cell_type": "code",
   "execution_count": null,
   "metadata": {},
   "outputs": [],
   "source": [
    "s1 = \"this is a Test\"\n",
    "s2 = \"always test your RE for corner cases\"\n",
    "s3 = \"a TEST of skill tests?\"\n",
    "pat = re.compile(r\"(test.+){1,}\", flags=re.I)\n",
    "pat.sub(\"\", s1)\n",
    "pat.sub(\"\", s2)\n",
    "pat.sub(\"\", s3)"
   ]
  },
  {
   "cell_type": "code",
   "execution_count": null,
   "metadata": {},
   "outputs": [],
   "source": [
    "words = [\"sequoia\", \"subtle\", \"exhibit\", \"a set\", \"sets\", \"tests\", \"site\"]\n",
    "\n",
    "[w for w in words if re.search(r\"\\As.*(e.*t|t.*e)\", w)]"
   ]
  },
  {
   "cell_type": "code",
   "execution_count": null,
   "metadata": {},
   "outputs": [],
   "source": [
    "words = [\"sequoia\", \"subtle\", \"exhibit\", \"asset\", \"sets\", \"tests\", \"site\"]\n",
    "\n",
    "[w for w in words if re.search(r\".{6,}\", w)]"
   ]
  },
  {
   "cell_type": "code",
   "execution_count": null,
   "metadata": {},
   "outputs": [],
   "source": [
    "words = [\"sequoia\", \"subtle\", \"exhibit\", \"asset\", \"sets\", \"t set\", \"site\"]\n",
    "\n",
    "[w for w in words if re.search(r\"\\A(s|t).{,5}\\Z\", w)]"
   ]
  },
  {
   "cell_type": "code",
   "execution_count": null,
   "metadata": {},
   "outputs": [],
   "source": [
    "ip = \"a<apple> 1<> b<bye> 2<> c<cat>\"\n",
    "\n",
    "re.sub(r\"<.+?>\", \"\", ip)"
   ]
  },
  {
   "cell_type": "code",
   "execution_count": null,
   "metadata": {},
   "outputs": [],
   "source": [
    "s1 = 'go there // \"this // that\"'\n",
    "s2 = \"a//b // c//d e//f // 4//5\"\n",
    "s3 = \"42// hi//bye//see // carefully\"\n",
    "pat = re.compile(r\" {1,}// {1,}\")\n",
    "pat.split(s1, maxsplit=1)\n",
    "pat.split(s2, maxsplit=1)\n",
    "pat.split(s3, maxsplit=1)"
   ]
  },
  {
   "cell_type": "code",
   "execution_count": null,
   "metadata": {},
   "outputs": [],
   "source": [
    "s1 = \"appleabcabcabcapricot\"\n",
    "s2 = \"bananabcabcabcdelicious\"\n",
    "\n",
    "pat = re.compile(r\"(abc)++a\")\n",
    "\n",
    "bool(pat.search(s1))\n",
    "bool(pat.search(s2))"
   ]
  },
  {
   "cell_type": "code",
   "execution_count": null,
   "metadata": {},
   "outputs": [],
   "source": [
    "cast = \"dragon-unicorn--centaur---mage----healer\"\n",
    "c = \"-\"\n",
    "re.sub(rf'{c}{'{3,}'}', c, cast)"
   ]
  },
  {
   "cell_type": "markdown",
   "metadata": {},
   "source": [
    "# Chapter 6 Working with Matched Portions"
   ]
  },
  {
   "cell_type": "code",
   "execution_count": null,
   "metadata": {},
   "outputs": [],
   "source": [
    "str1 = \"This the biggest fruit you have seen?\"\n",
    "str2 = \"Your mission is to read and practice consistently\"\n",
    "\n",
    "pat = re.compile(r\"(is.*t)\")\n",
    "\n",
    "pat.search(str1)[1]\n",
    "pat.search(str2)[1]"
   ]
  },
  {
   "cell_type": "code",
   "execution_count": null,
   "metadata": {},
   "outputs": [],
   "source": [
    "s1 = \"match after the last newline character\"\n",
    "s2 = \"and then you want to test\"\n",
    "s3 = \"this is good bye then\"\n",
    "s4 = \"who was there to see?\"\n",
    "\n",
    "pat = re.compile(r\"(is|the|was|to)\")\n",
    "\n",
    "pat.search(s1).start(1)\n",
    "pat.search(s2).start(1)\n",
    "pat.search(s3).start(1)\n",
    "pat.search(s4).start(1)"
   ]
  },
  {
   "cell_type": "code",
   "execution_count": null,
   "metadata": {},
   "outputs": [],
   "source": [
    "s1 = \"match after the last newline character\"\n",
    "s2 = \"and then you want to test\"\n",
    "s3 = \"this is good bye then\"\n",
    "s4 = \"who was there to see?\"\n",
    "\n",
    "pat = re.compile(r\".*(is|the|was|to)\")\n",
    "\n",
    "pat.search(s1).start(1)\n",
    "pat.search(s2).start(1)\n",
    "pat.search(s3).start(1)\n",
    "pat.search(s4).start(1)"
   ]
  },
  {
   "cell_type": "code",
   "execution_count": null,
   "metadata": {},
   "outputs": [],
   "source": [
    "ip = \"fruits:apple, mango, guava, blueberry\"\n",
    "\n",
    "re.search(r\".*:(.*)\", ip).group(1)"
   ]
  },
  {
   "cell_type": "code",
   "execution_count": null,
   "metadata": {},
   "outputs": [],
   "source": [
    "import math\n",
    "\n",
    "s1 = \"first-3.14\"\n",
    "s2 = \"next-123\"\n",
    "pat = re.compile(r\"(.*-)(.*)\")\n",
    "\n",
    "pat.sub(lambda x: x[1] + str(math.log(float(x[2]))), s1)\n",
    "pat.sub(lambda x: x[1] + str(math.log(float(x[2]))), s2)"
   ]
  },
  {
   "cell_type": "code",
   "execution_count": null,
   "metadata": {},
   "outputs": [],
   "source": [
    "dict = {\"par\": \"spar\", \"spare\": \"extra\", \"park\": \"garden\"}\n",
    "\n",
    "str1 = \"apartment has a park\"\n",
    "str2 = \"do you have a spare cable\"\n",
    "str3 = \"write a parser\"\n",
    "\n",
    "pat = \"|\".join(sorted(dict.keys(), key=len, reverse=True))\n",
    "\n",
    "pat = re.compile(pat)\n",
    "pat.sub(lambda m: dict[m[0]], str1)\n",
    "# pat.sub(lambda m: dict[m[0]], str2)\n",
    "# pat.sub(lambda m: dict[m[0]], str3)"
   ]
  },
  {
   "cell_type": "code",
   "execution_count": null,
   "metadata": {},
   "outputs": [],
   "source": [
    "ip = \"another (way) to reuse (portion) matched (by) capture groups\"\n",
    "re.findall(r\"\\((.*?)\\)\", ip)"
   ]
  },
  {
   "cell_type": "code",
   "execution_count": null,
   "metadata": {},
   "outputs": [],
   "source": [
    "ip = \"a<apple> 1<> b<bye> 2<> c<cat>\"\n",
    "re.findall(r\"<.+?>\", ip)"
   ]
  },
  {
   "cell_type": "code",
   "execution_count": null,
   "metadata": {},
   "outputs": [],
   "source": [
    "row1 = \"-2,5 4,+3 +42,-53 4356246,-357532354 \"\n",
    "row2 = \"1.32,-3.14 634,5.63 63.3e3,9907809345343.235 \"\n",
    "pat = re.compile(r\"(.*?),(.*?) \")\n",
    "pat.findall(row1)\n",
    "pat.findall(row2)"
   ]
  },
  {
   "cell_type": "code",
   "execution_count": null,
   "metadata": {},
   "outputs": [],
   "source": [
    "row1 = \"-2,5 4,+3 +42,-53 4356246,-357532354 \"\n",
    "row2 = \"1.32,-3.14 634,5.63 63.3e3,9907809345343.235 \"\n",
    "pat = re.compile(r\"(.*?),(.*?) \")\n",
    "\n",
    "[int(m[1]) + int(m[2]) for m in pat.finditer(row1)]\n",
    "[float(m[1]) + float(m[2]) for m in pat.finditer(row2)]"
   ]
  },
  {
   "cell_type": "code",
   "execution_count": null,
   "metadata": {},
   "outputs": [],
   "source": [
    "ip = \"42:no-output;1000:car-tr:u-ck;SQEX49801\"\n",
    "\n",
    "re.split(r\":.+?-(.+?);\", ip)"
   ]
  },
  {
   "cell_type": "code",
   "execution_count": null,
   "metadata": {},
   "outputs": [],
   "source": [
    "words = [\"sequoia\", \"attest\", \"tattletale\", \"asset\"]\n",
    "\n",
    "[(w, len(re.findall(\"t\", w))) for w in words]"
   ]
  },
  {
   "cell_type": "code",
   "execution_count": null,
   "metadata": {},
   "outputs": [],
   "source": [
    "ip = \"TWXA42:JWPA:NTED01:\"\n",
    "\n",
    "[m.groups(\"NA\") for m in re.finditer(r\"(.{4})(.{2})?:\", ip)]"
   ]
  },
  {
   "cell_type": "code",
   "execution_count": null,
   "metadata": {},
   "outputs": [],
   "source": [
    "row1 = \"name:rohan,maths:75,phy:89,\"\n",
    "row2 = \"name:rose,maths:88,phy:92,\"\n",
    "pat = re.compile(r\"(.*?):(.*?),\")\n",
    "{m[1]: m[2] for m in pat.finditer(row1)}\n",
    "{m[1]: m[2] for m in pat.finditer(row2)}"
   ]
  },
  {
   "cell_type": "markdown",
   "metadata": {},
   "source": [
    "# Chapter 7 Character Class"
   ]
  },
  {
   "cell_type": "code",
   "execution_count": null,
   "metadata": {},
   "outputs": [],
   "source": [
    "items = [\"-handy\", \"hand\", \"handy\", \"unhand\", \"hands\", \"hand-icy\", \"handle\"]\n",
    "\n",
    "[w for w in items if re.fullmatch(r\"hand([sy]|le)\", w)]"
   ]
  },
  {
   "cell_type": "code",
   "execution_count": null,
   "metadata": {},
   "outputs": [],
   "source": [
    "ip = \"redo red credible :read: rod reed\"\n",
    "\n",
    "re.sub(r\"\\bre[ea]?d\\b\", \"X\", ip)"
   ]
  },
  {
   "cell_type": "code",
   "execution_count": null,
   "metadata": {},
   "outputs": [],
   "source": [
    "words = [\"surrender\", \"unicorn\", \"newer\", \"door\", \"empty\", \"eel\", \"pest\"]\n",
    "[w for w in words if re.search(r\"[ei].*[ln]\", w)]"
   ]
  },
  {
   "cell_type": "code",
   "execution_count": null,
   "metadata": {},
   "outputs": [],
   "source": [
    "words = [\"surrender\", \"unicorn\", \"newer\", \"door\", \"empty\", \"eel\", \"pest\"]\n",
    "[w for w in words if re.search(r\"[ei].*[ln]|[ln].*[ei]\", w)]"
   ]
  },
  {
   "cell_type": "code",
   "execution_count": null,
   "metadata": {},
   "outputs": [],
   "source": [
    "str1 = \"128A foo 0xfe32 34 0xbar\"\n",
    "str2 = \"0XDEADBEEF place 0x0ff1ce bad\"\n",
    "hex_seq = re.compile(r\"\\b(0x)?[0-9a-f]+\\b\", flags=re.I)\n",
    "\n",
    "[m[0] for m in hex_seq.finditer(str1)]\n",
    "[m[0] for m in hex_seq.finditer(str2)]"
   ]
  },
  {
   "cell_type": "code",
   "execution_count": null,
   "metadata": {},
   "outputs": [],
   "source": [
    "str1 = \"def factorial()\"\n",
    "str2 = \"a/b(division) + c%d(#modulo) - (e+(j/k-3)*4)\"\n",
    "str3 = \"Hi there(greeting). Nice day(a(b)\"\n",
    "remove_parentheses = re.compile(r\"\\([^()]*\\)\")\n",
    "remove_parentheses.sub(\"\", str1)\n",
    "remove_parentheses.sub(\"\", str2)\n",
    "remove_parentheses.sub(\"\", str3)"
   ]
  },
  {
   "cell_type": "code",
   "execution_count": null,
   "metadata": {},
   "outputs": [],
   "source": [
    "words = [\"surrender\", \"unicorn\", \"newer\", \"door\", \"empty\", \"eel\", \"(pest)\"]\n",
    "\n",
    "[w for w in words if not re.match(r\"[epu].*\", w)]"
   ]
  },
  {
   "cell_type": "code",
   "execution_count": null,
   "metadata": {},
   "outputs": [],
   "source": [
    "words = [\"p-t\", \"you\", \"tea\", \"heel\", \"owe\", \"new\", \"reed\", \"ear\"]\n",
    "\n",
    "[w for w in words if not re.search(r\"[uw-]|ee\", w)]"
   ]
  },
  {
   "cell_type": "code",
   "execution_count": null,
   "metadata": {},
   "outputs": [],
   "source": [
    "row1 = \"(2),kite,12,,D,C,,\"\n",
    "row2 = \"hi,bye,sun,moon\"\n",
    "pat = re.compile(r\"([^,]*,){2}[^,]*\\Z\")\n",
    "pat.sub(\"WHTSZ323\", row1)\n",
    "pat.sub(\"WHTSZ323\", row2)\n",
    "# pat.sub()"
   ]
  },
  {
   "cell_type": "code",
   "execution_count": null,
   "metadata": {},
   "outputs": [],
   "source": [
    "str1 = \"lion \\t Ink32onion Nice\"\n",
    "str2 = \"**1\\f2\\n3star\\t7 77\\r**\"\n",
    "\n",
    "pat = re.compile(r\"[\\s\\d]+\")\n",
    "pat.split(str1)\n",
    "pat.split(str2)"
   ]
  },
  {
   "cell_type": "code",
   "execution_count": null,
   "metadata": {},
   "outputs": [],
   "source": [
    "ip = \"a<ap\\nple> 1<> b<bye> 2<> c<cat>\"\n",
    "\n",
    "re.sub(r\"<[^>]+?>\", \"\", ip)"
   ]
  },
  {
   "cell_type": "code",
   "execution_count": null,
   "metadata": {},
   "outputs": [],
   "source": [
    "items = [\"hi0000432abcd\", \"car00625\", \"42_624 0512\", \"3.14 96 2 foo1234baz\"]\n",
    "\n",
    "pat = re.compile(r\"0*([\\d]+)\")\n",
    "\n",
    "[w for w in items if any([int(m[0]) > 624 for m in pat.finditer(w)])]"
   ]
  },
  {
   "cell_type": "code",
   "execution_count": null,
   "metadata": {},
   "outputs": [],
   "source": [
    "def max_nested_braces(ip):\n",
    "    count = 0\n",
    "    while (op := re.subn(r\"\\{[^{}]*\\}\", \"\", ip))[1]:\n",
    "        count += 1\n",
    "        ip = op[0]\n",
    "        print(op)\n",
    "    if re.search(r\"[{}]\", ip):\n",
    "        return -1\n",
    "    return count\n",
    "\n",
    "\n",
    "# max_nested_braces('a*b')\n",
    "# max_nested_braces('}a+b{')\n",
    "# max_nested_braces('a*b+{}')\n",
    "# max_nested_braces('{{a+2}*{b+c}+e}')\n",
    "# max_nested_braces('{{a+2}*{b+{c*d}}+e}')\n",
    "max_nested_braces(\"{{a+2}*{\\n{b+{c*d}}+e*d}}\")\n",
    "# max_nested_braces('a*{b+c*{e*3.14}}}')"
   ]
  },
  {
   "cell_type": "code",
   "execution_count": null,
   "metadata": {},
   "outputs": [],
   "source": [
    "ip = \" \\t\\r so pole\\t\\t\\t\\n\\nlit in to \\r\\n\\v\\f \"\n",
    "# ip.split()\n",
    "\n",
    "re.findall(r\"\\S+\", ip)"
   ]
  },
  {
   "cell_type": "code",
   "execution_count": null,
   "metadata": {},
   "outputs": [],
   "source": [
    "ip = \"price_42 roast^\\t\\n^-ice==cat\\neast\"\n",
    "\n",
    "re.findall(r\"\\w+\", ip)\n",
    "\n",
    "re.split(r\"(\\W+)\", ip)"
   ]
  },
  {
   "cell_type": "code",
   "execution_count": null,
   "metadata": {},
   "outputs": [],
   "source": [
    "items = [\"\\t \\ncat\", \"goal\", \" oh\", \"he-he\", \"goal2\", \"ok \", \"sparrow\"]\n",
    "\n",
    "[w for w in items if re.fullmatch(r\"\\s*+\\D{3,5}\", w)]"
   ]
  },
  {
   "cell_type": "markdown",
   "metadata": {},
   "source": [
    "# Chapter 8 Groupings and Back References"
   ]
  },
  {
   "cell_type": "code",
   "execution_count": null,
   "metadata": {},
   "outputs": [],
   "source": [
    "ip = \"area not a _a2_ roar took 22\"\n",
    "\n",
    "print(re.sub(r\"([ar]) \", r\"\\1\\n\", ip))"
   ]
  },
  {
   "cell_type": "code",
   "execution_count": null,
   "metadata": {},
   "outputs": [],
   "source": [
    "ip = \"sequoia subtle exhibit asset sets2 tests si_te\"\n",
    "\n",
    "re.sub(r\"\\bs\\w*(e\\w*t|t\\w*e)\\w*\", r\"[\\g<0>]\", ip)"
   ]
  },
  {
   "cell_type": "code",
   "execution_count": null,
   "metadata": {},
   "outputs": [],
   "source": [
    "ip = \"oreo not a _a2_ Roar took 22\"\n",
    "\n",
    "re.sub(r\"\\b(\\w)(\\w*\\1)?\\b\", r\"X\", ip, flags=re.I)"
   ]
  },
  {
   "cell_type": "code",
   "execution_count": null,
   "metadata": {},
   "outputs": [],
   "source": [
    "header1 = \"# Regular Expressions\"\n",
    "header2 = \"## Compiling regular expressions\"\n",
    "\n",
    "pat = re.compile(r\"\\A(?P<level>#+ )(?P<header>.*)\\Z\")\n",
    "\n",
    "\n",
    "def transform(m):\n",
    "    return f'{m['level']}<a name=\"{m['header'].lower().replace(\" \", \"-\")}\"></a>{m['header']}'\n",
    "\n",
    "\n",
    "pat.sub(transform, header1)\n",
    "pat.sub(transform, header2)"
   ]
  },
  {
   "cell_type": "code",
   "execution_count": null,
   "metadata": {},
   "outputs": [],
   "source": [
    "anchor1 = '# <a name=\"regular-expressions\"></a>Regular Expressions'\n",
    "anchor2 = '## <a name=\"subexpression-calls\"></a>Subexpression calls'\n",
    "\n",
    "pat = re.compile(r'\\A.*<a name=\"(?P<name>.*)\"></a>(?P<header>.*)\\Z')\n",
    "\n",
    "pat.sub(r\"[\\g<header>](#\\g<name>)\", anchor1)\n",
    "pat.sub(r\"[\\g<header>](#\\g<name>)\", anchor2)"
   ]
  },
  {
   "cell_type": "code",
   "execution_count": null,
   "metadata": {},
   "outputs": [],
   "source": [
    "ip = \"\"\"oppressed abandon accommodation bloodless\n",
    "carelessness committed apparition innkeeper\n",
    "occasionally afforded embarrassment foolishness\n",
    "depended successfully succeeded\n",
    "possession cleanliness suppress\"\"\"\n",
    "\n",
    "len(re.findall(r\"\\b\\w*(\\w)\\1\\w*(\\w)\\2\\w*\\b\", ip))"
   ]
  },
  {
   "cell_type": "code",
   "execution_count": null,
   "metadata": {},
   "outputs": [],
   "source": [
    "ip = \"1234 2323 453545354535 9339 11 60260260\"\n",
    "\n",
    "re.sub(r\"\\b(\\d+)\\1+\\b\", r\"\\1\", ip)"
   ]
  },
  {
   "cell_type": "code",
   "execution_count": null,
   "metadata": {},
   "outputs": [],
   "source": [
    "ip = \"wow:Good:2_two.five: hi-2 bye kite.777:water.\"\n",
    "\n",
    "re.sub(r\"([:.]\\w*)+\", r\"\", ip)"
   ]
  },
  {
   "cell_type": "code",
   "execution_count": null,
   "metadata": {},
   "outputs": [],
   "source": [
    "ip = \"wow:Good:2_two.five: hi-2 bye kite.777:water.\"\n",
    "\n",
    "re.sub(r\"((\\w+)[:.])+\", r\"\\2\", ip)"
   ]
  },
  {
   "cell_type": "code",
   "execution_count": null,
   "metadata": {},
   "outputs": [],
   "source": [
    "ip = \"firecatlioncatcatcatbearcatcatparrot\"\n",
    "\n",
    "re.split(r\"(?:cat)+\", ip)"
   ]
  },
  {
   "cell_type": "code",
   "execution_count": null,
   "metadata": {},
   "outputs": [],
   "source": [
    "ip = \"1234 2323 453545354535 9339 11 60260260\"\n",
    "\n",
    "pat = re.compile(r\"\\b(\\d+)\\1+\\b\")\n",
    "\n",
    "[m[0] for m in pat.finditer(ip)]\n",
    "[m[1] for m in pat.finditer(ip)]"
   ]
  },
  {
   "cell_type": "code",
   "execution_count": null,
   "metadata": {},
   "outputs": [],
   "source": [
    "row1 = \"rohan,75,89\"\n",
    "row2 = \"rose,88,92\"\n",
    "pat = re.compile(r\"(?P<name>.*),(?P<maths>.*),(?P<phy>.*)\")\n",
    "\n",
    "pat.match(row1).groupdict()\n",
    "pat.match(row2).groupdict()"
   ]
  },
  {
   "cell_type": "code",
   "execution_count": null,
   "metadata": {},
   "outputs": [],
   "source": []
  },
  {
   "cell_type": "code",
   "execution_count": null,
   "metadata": {},
   "outputs": [],
   "source": [
    "ip = \"tiger imp goat eagle ant important\"\n",
    "\n",
    "re.sub(r\"\\b(?:imp|ant|(\\w+))\\b\", r\"(\\1)\", ip)"
   ]
  },
  {
   "cell_type": "code",
   "execution_count": null,
   "metadata": {},
   "outputs": [],
   "source": [
    "ip = [\"{{apple-150}}\", \"{{mango2-100}}\", \"{{cherry-200\", \"grape-87\"]\n",
    "\n",
    "[w for w in ip if re.fullmatch(r\"({{)?\\w*-\\d*(?(1)}})\", w)]"
   ]
  },
  {
   "cell_type": "code",
   "execution_count": null,
   "metadata": {},
   "outputs": [],
   "source": [
    "ip = \"wow:Good:2_two.five: hi-2 bye kite.777:water.\"\n",
    "\n",
    "[m.expand(r\"\\2-\\1\") for m in re.finditer(r\"(\\w+)[:.](?:(\\w+)[:.])+\", ip)]\n",
    "[\"five-wow\", \"water-kite\"]"
   ]
  },
  {
   "cell_type": "code",
   "execution_count": null,
   "metadata": {},
   "outputs": [],
   "source": [
    "ip = \"( S:12 E:5 S:4 and E:123 ok S:100 & E:10 S:1 - E:2 S:42 E:43 )\"\n",
    "\n",
    "re.findall(r\"(?>S:\\d+.*?E:)\\d{2,}\", ip)"
   ]
  },
  {
   "cell_type": "markdown",
   "metadata": {},
   "source": [
    "# Chapter Lookarounds"
   ]
  },
  {
   "cell_type": "code",
   "execution_count": null,
   "metadata": {},
   "outputs": [],
   "source": [
    "ip = \"(apple) guava berry) apple (mango) (grape\"\n",
    "\n",
    "re.sub(r\"(?<!\\()\\b\\w+\", \"X\", ip)"
   ]
  },
  {
   "cell_type": "code",
   "execution_count": null,
   "metadata": {},
   "outputs": [],
   "source": [
    "ip = \"(apple) guava berry) apple (mango) (grape\"\n",
    "\n",
    "re.sub(r\"\\w+\\b(?!\\))\", \"X\", ip)"
   ]
  },
  {
   "cell_type": "code",
   "execution_count": null,
   "metadata": {},
   "outputs": [],
   "source": [
    "ip = \"(apple) guava berry) apple (mango) (grape\"\n",
    "\n",
    "re.sub(r\"(?<!\\()\\b\\w+\\b(?!\\))\", \"X\", ip)"
   ]
  },
  {
   "cell_type": "code",
   "execution_count": null,
   "metadata": {},
   "outputs": [],
   "source": [
    "ip = \"a_t row on Urn e note Dust n end a2-e|u\"\n",
    "\n",
    "re.findall(r\"\\w+\\b(?<!e|n)\", ip)"
   ]
  },
  {
   "cell_type": "code",
   "execution_count": null,
   "metadata": {},
   "outputs": [],
   "source": [
    "ip = \"a_t row on Urn e note Dust n end a2-e|u\"\n",
    "\n",
    "re.findall(r\"\\b(?!a|d|n)\\w+\\b\", ip)"
   ]
  },
  {
   "cell_type": "code",
   "execution_count": null,
   "metadata": {},
   "outputs": [],
   "source": [
    "ip = \"Poke,on=-=so_good:ink.to/is(vast)ever2-sit\"\n",
    "\n",
    "re.findall(r\"\\w+(?=[:,-])\", ip)"
   ]
  },
  {
   "cell_type": "code",
   "execution_count": null,
   "metadata": {},
   "outputs": [],
   "source": [
    "ip = \"Poke,on=-=so_good:ink.to/is(vast)ever2-sit\"\n",
    "\n",
    "re.findall(r\"(?<=[=/-])\\w+\", ip)"
   ]
  },
  {
   "cell_type": "code",
   "execution_count": null,
   "metadata": {},
   "outputs": [],
   "source": [
    "ip = \"Poke,on=-=so_good:ink.to/is(vast)ever2-sit\"\n",
    "\n",
    "re.findall(r\"(?<=[=:])\\w+(?=[:.])\", ip)"
   ]
  },
  {
   "cell_type": "code",
   "execution_count": null,
   "metadata": {},
   "outputs": [],
   "source": [
    "ip = \"Poke,on=-=so_good:ink.to/is(vast)ever2-sit\"\n",
    "\n",
    "re.findall(r\"(?<=[=:.(-])\\w+(?![./])\\b\", ip)"
   ]
  },
  {
   "cell_type": "code",
   "execution_count": null,
   "metadata": {},
   "outputs": [],
   "source": [
    "csv1 = \" comma ,separated ,values \\t\\r \"\n",
    "csv2 = \"good bad,nice ice , 42 , , stall small\"\n",
    "\n",
    "remove_whitespace = re.compile(r\"(?<![^,])\\s+|\\s+(?![^,])\")\n",
    "\n",
    "# remove_whitespace.sub('', csv1)\n",
    "remove_whitespace.sub(\"\", csv2)"
   ]
  },
  {
   "cell_type": "code",
   "execution_count": null,
   "metadata": {},
   "outputs": [],
   "source": [
    "pwds = [\"hunter2\", \"F2H3u%9\", \"*X3Yz3.14\\t\", \"r2_d2_42\", \"A $B C1234\"]\n",
    "\n",
    "[\n",
    "    pw\n",
    "    for pw in pwds\n",
    "    if re.search(r\"(?=(.*[a-zA-Z]){2,})(?=(.*\\d){3,})(?=.*[%*#$])(?!.+\\s\\Z)\", pw)\n",
    "]"
   ]
  }
 ],
 "metadata": {
  "kernelspec": {
   "display_name": ".venv",
   "language": "python",
   "name": "python3"
  },
  "language_info": {
   "codemirror_mode": {
    "name": "ipython",
    "version": 3
   },
   "file_extension": ".py",
   "mimetype": "text/x-python",
   "name": "python",
   "nbconvert_exporter": "python",
   "pygments_lexer": "ipython3",
   "version": "3.12.2"
  }
 },
 "nbformat": 4,
 "nbformat_minor": 2
}
