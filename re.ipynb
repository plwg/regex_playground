{
 "cells": [
  {
   "cell_type": "code",
   "execution_count": null,
   "metadata": {},
   "outputs": [],
   "source": [
    "import re"
   ]
  },
  {
   "cell_type": "markdown",
   "metadata": {},
   "source": [
    "# Chapter 1 Exercise"
   ]
  },
  {
   "cell_type": "code",
   "execution_count": null,
   "metadata": {},
   "outputs": [],
   "source": [
    "line1 = \"start address: 0xA0, func1 address: 0xC0\"\n",
    "line2 = \"end address: 0xFF, func2 address: 0xB0\"\n",
    "\n",
    "pattern = r\"0xB0\"\n",
    "\n",
    "(bool(re.search(pattern, line1)), bool(re.search(pattern, line2)))"
   ]
  },
  {
   "cell_type": "code",
   "execution_count": null,
   "metadata": {},
   "outputs": [],
   "source": [
    "ip = \"They ate 5 apples and 5 oranges\"\n",
    "\n",
    "re.sub(r\"5\", \"five\", ip)"
   ]
  },
  {
   "cell_type": "code",
   "execution_count": null,
   "metadata": {},
   "outputs": [],
   "source": [
    "ip = \"They ate 5 apples and 5 oranges\"\n",
    "\n",
    "re.sub(r\"5\", \"five\", ip, count=1)"
   ]
  },
  {
   "cell_type": "code",
   "execution_count": null,
   "metadata": {},
   "outputs": [],
   "source": [
    "items = [\"goal\", \"new\", \"user\", \"sit\", \"eat\", \"dinner\"]\n",
    "[w for w in items if not re.search(r\"e\", w)]"
   ]
  },
  {
   "cell_type": "code",
   "execution_count": null,
   "metadata": {},
   "outputs": [],
   "source": [
    "ip = \"This note should not be NoTeD\"\n",
    "re.sub(r\"note\", \"X\", ip, flags=re.I)"
   ]
  },
  {
   "cell_type": "code",
   "execution_count": null,
   "metadata": {},
   "outputs": [],
   "source": [
    "ip = b\"tiger imp goat\"\n",
    "bool(re.search(rb\"at\", ip))"
   ]
  },
  {
   "cell_type": "code",
   "execution_count": null,
   "metadata": {},
   "outputs": [],
   "source": [
    "para = \"\"\"good start\n",
    "Start working on that\n",
    "project you always wanted\n",
    "stars are shining brightly\n",
    "hi there\n",
    "start and try to\n",
    "finish the book\n",
    "bye\"\"\"\n",
    "\n",
    "pat = re.compile(\"start\", flags=re.I)\n",
    "for line in para.split(\"\\n\"):\n",
    "    if not pat.search(line):\n",
    "        print(line)"
   ]
  },
  {
   "cell_type": "code",
   "execution_count": null,
   "metadata": {},
   "outputs": [],
   "source": [
    "items = [\"goal\", \"new\", \"user\", \"sit\", \"eat\", \"dinner\"]\n",
    "\n",
    "[w for w in items if re.search(r\"a\", w) or re.search(r\"w\", w)]"
   ]
  },
  {
   "cell_type": "code",
   "execution_count": null,
   "metadata": {},
   "outputs": [],
   "source": [
    "items = [\"goal\", \"new\", \"user\", \"sit\", \"eat\", \"dinner\"]\n",
    "[w for w in items if re.search(r\"e\", w) and re.search(r\"n\", w)]"
   ]
  },
  {
   "cell_type": "code",
   "execution_count": null,
   "metadata": {},
   "outputs": [],
   "source": [
    "ip = \"start address: 0xA0, func1 address: 0xC0\"\n",
    "ip = re.sub(r\"0xA0\", \"0x7F\", ip)\n",
    "ip = re.sub(r\"0xC0\", \"0x1F\", ip)\n",
    "ip"
   ]
  },
  {
   "cell_type": "markdown",
   "metadata": {},
   "source": [
    "## Chapter 2"
   ]
  },
  {
   "cell_type": "code",
   "execution_count": null,
   "metadata": {},
   "outputs": [],
   "source": [
    "line1 = \"be nice\"\n",
    "line2 = '\"best!\"'\n",
    "line3 = \"better?\"\n",
    "line4 = \"oh no\\nbear spotted\"\n",
    "pat = re.compile(r\"\\Abe\")\n",
    "\n",
    "(\n",
    "    bool(pat.search(line1)),\n",
    "    bool(pat.search(line2)),\n",
    "    bool(pat.search(line3)),\n",
    "    bool(pat.search(line4)),\n",
    ")"
   ]
  },
  {
   "cell_type": "code",
   "execution_count": null,
   "metadata": {},
   "outputs": [],
   "source": [
    "words = \"bred red spread credible red.\"\n",
    "\n",
    "re.sub(r\"\\bred\\b\", \"brown\", words)"
   ]
  },
  {
   "cell_type": "code",
   "execution_count": null,
   "metadata": {},
   "outputs": [],
   "source": [
    "words = [\"hi42bye\", \"nice1423\", \"bad42\", \"cool_42a\", \"42fake\", \"_42_\"]\n",
    "[w for w in words if re.search(r\"\\B42\\B\", w)]"
   ]
  },
  {
   "cell_type": "code",
   "execution_count": null,
   "metadata": {},
   "outputs": [],
   "source": [
    "items = [\"lovely\", \"1\\ndentist\", \"2 lonely\", \"eden\", \"fly\\n\", \"dent\"]\n",
    "\n",
    "[e for e in items if re.search(r\"\\Aden\", e) or re.search(r\"ly\\Z\", e)]"
   ]
  },
  {
   "cell_type": "code",
   "execution_count": null,
   "metadata": {},
   "outputs": [],
   "source": [
    "para = \"\"\"\n",
    "(mall) call ball pall\n",
    "ball fall wall tall\n",
    "mall call ball pall\n",
    "wall mall ball fall\n",
    "mallet wallet malls\n",
    "mall:call:ball:pall\"\"\"\n",
    "\n",
    "print(re.sub(r\"^mall\\b\", \"1234\", para, flags=re.MULTILINE))"
   ]
  },
  {
   "cell_type": "code",
   "execution_count": null,
   "metadata": {},
   "outputs": [],
   "source": [
    "items = [\"lovely\", \"1\\ndentist\", \"2 lonely\", \"eden\", \"fly\\nfar\", \"dent\"]\n",
    "\n",
    "[\n",
    "    w\n",
    "    for w in items\n",
    "    if re.search(r\"^den\", w, flags=re.M) or re.search(r\"ly$\", w, flags=re.M)\n",
    "]"
   ]
  },
  {
   "cell_type": "code",
   "execution_count": null,
   "metadata": {},
   "outputs": [],
   "source": [
    "items = [\"12\\nthree\\n\", \"12\\nThree\", \"12\\nthree\\n4\", \"12\\nthree\"]\n",
    "\n",
    "[w for w in items if re.fullmatch(r\"12\\nThree\", w, flags=re.I)]"
   ]
  },
  {
   "cell_type": "code",
   "execution_count": null,
   "metadata": {},
   "outputs": [],
   "source": [
    "items = [\"handed\", \"hand\", \"handy\", \"un-handed\", \"handle\", \"hand-2\"]\n",
    "\n",
    "[re.sub(r\"hand\", \"X\", w) if re.search(r\"^hand\\B\", w) else w for w in items]"
   ]
  },
  {
   "cell_type": "code",
   "execution_count": null,
   "metadata": {},
   "outputs": [],
   "source": [
    "items = [\"handed\", \"hand\", \"handy\", \"un-handed\", \"handle\", \"hand-2\"]\n",
    "\n",
    "[re.sub(r\"e\", \"X\", w) for w in items if re.search(r\"^h\", w)]"
   ]
  }
 ],
 "metadata": {
  "kernelspec": {
   "display_name": ".venv",
   "language": "python",
   "name": "python3"
  },
  "language_info": {
   "codemirror_mode": {
    "name": "ipython",
    "version": 3
   },
   "file_extension": ".py",
   "mimetype": "text/x-python",
   "name": "python",
   "nbconvert_exporter": "python",
   "pygments_lexer": "ipython3",
   "version": "3.12.2"
  }
 },
 "nbformat": 4,
 "nbformat_minor": 2
}
