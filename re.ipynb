{
 "cells": [
  {
   "cell_type": "code",
   "execution_count": null,
   "metadata": {},
   "outputs": [],
   "source": [
    "import re"
   ]
  },
  {
   "cell_type": "markdown",
   "metadata": {},
   "source": [
    "# Chapter 1 Basic"
   ]
  },
  {
   "cell_type": "code",
   "execution_count": null,
   "metadata": {},
   "outputs": [],
   "source": [
    "line1 = \"start address: 0xA0, func1 address: 0xC0\"\n",
    "line2 = \"end address: 0xFF, func2 address: 0xB0\"\n",
    "\n",
    "pattern = r\"0xB0\"\n",
    "\n",
    "(bool(re.search(pattern, line1)), bool(re.search(pattern, line2)))"
   ]
  },
  {
   "cell_type": "code",
   "execution_count": null,
   "metadata": {},
   "outputs": [],
   "source": [
    "ip = \"They ate 5 apples and 5 oranges\"\n",
    "\n",
    "re.sub(r\"5\", \"five\", ip)"
   ]
  },
  {
   "cell_type": "code",
   "execution_count": null,
   "metadata": {},
   "outputs": [],
   "source": [
    "ip = \"They ate 5 apples and 5 oranges\"\n",
    "\n",
    "re.sub(r\"5\", \"five\", ip, count=1)"
   ]
  },
  {
   "cell_type": "code",
   "execution_count": null,
   "metadata": {},
   "outputs": [],
   "source": [
    "items = [\"goal\", \"new\", \"user\", \"sit\", \"eat\", \"dinner\"]\n",
    "[w for w in items if not re.search(r\"e\", w)]"
   ]
  },
  {
   "cell_type": "code",
   "execution_count": null,
   "metadata": {},
   "outputs": [],
   "source": [
    "ip = \"This note should not be NoTeD\"\n",
    "re.sub(r\"note\", \"X\", ip, flags=re.I)"
   ]
  },
  {
   "cell_type": "code",
   "execution_count": null,
   "metadata": {},
   "outputs": [],
   "source": [
    "ip = b\"tiger imp goat\"\n",
    "bool(re.search(rb\"at\", ip))"
   ]
  },
  {
   "cell_type": "code",
   "execution_count": null,
   "metadata": {},
   "outputs": [],
   "source": [
    "para = \"\"\"good start\n",
    "Start working on that\n",
    "project you always wanted\n",
    "stars are shining brightly\n",
    "hi there\n",
    "start and try to\n",
    "finish the book\n",
    "bye\"\"\"\n",
    "\n",
    "pat = re.compile(\"start\", flags=re.I)\n",
    "for line in para.split(\"\\n\"):\n",
    "    if not pat.search(line):\n",
    "        print(line)"
   ]
  },
  {
   "cell_type": "code",
   "execution_count": null,
   "metadata": {},
   "outputs": [],
   "source": [
    "items = [\"goal\", \"new\", \"user\", \"sit\", \"eat\", \"dinner\"]\n",
    "\n",
    "[w for w in items if re.search(r\"a\", w) or re.search(r\"w\", w)]"
   ]
  },
  {
   "cell_type": "code",
   "execution_count": null,
   "metadata": {},
   "outputs": [],
   "source": [
    "items = [\"goal\", \"new\", \"user\", \"sit\", \"eat\", \"dinner\"]\n",
    "[w for w in items if re.search(r\"e\", w) and re.search(r\"n\", w)]"
   ]
  },
  {
   "cell_type": "code",
   "execution_count": null,
   "metadata": {},
   "outputs": [],
   "source": [
    "ip = \"start address: 0xA0, func1 address: 0xC0\"\n",
    "ip = re.sub(r\"0xA0\", \"0x7F\", ip)\n",
    "ip = re.sub(r\"0xC0\", \"0x1F\", ip)\n",
    "ip"
   ]
  },
  {
   "cell_type": "markdown",
   "metadata": {},
   "source": [
    "## Chapter 2 - Anchor"
   ]
  },
  {
   "cell_type": "code",
   "execution_count": null,
   "metadata": {},
   "outputs": [],
   "source": [
    "line1 = \"be nice\"\n",
    "line2 = '\"best!\"'\n",
    "line3 = \"better?\"\n",
    "line4 = \"oh no\\nbear spotted\"\n",
    "pat = re.compile(r\"\\Abe\")\n",
    "\n",
    "(\n",
    "    bool(pat.search(line1)),\n",
    "    bool(pat.search(line2)),\n",
    "    bool(pat.search(line3)),\n",
    "    bool(pat.search(line4)),\n",
    ")"
   ]
  },
  {
   "cell_type": "code",
   "execution_count": null,
   "metadata": {},
   "outputs": [],
   "source": [
    "words = \"bred red spread credible red.\"\n",
    "\n",
    "re.sub(r\"\\bred\\b\", \"brown\", words)"
   ]
  },
  {
   "cell_type": "code",
   "execution_count": null,
   "metadata": {},
   "outputs": [],
   "source": [
    "words = [\"hi42bye\", \"nice1423\", \"bad42\", \"cool_42a\", \"42fake\", \"_42_\"]\n",
    "[w for w in words if re.search(r\"\\B42\\B\", w)]"
   ]
  },
  {
   "cell_type": "code",
   "execution_count": null,
   "metadata": {},
   "outputs": [],
   "source": [
    "items = [\"lovely\", \"1\\ndentist\", \"2 lonely\", \"eden\", \"fly\\n\", \"dent\"]\n",
    "\n",
    "[e for e in items if re.search(r\"\\Aden\", e) or re.search(r\"ly\\Z\", e)]"
   ]
  },
  {
   "cell_type": "code",
   "execution_count": null,
   "metadata": {},
   "outputs": [],
   "source": [
    "para = \"\"\"\n",
    "(mall) call ball pall\n",
    "ball fall wall tall\n",
    "mall call ball pall\n",
    "wall mall ball fall\n",
    "mallet wallet malls\n",
    "mall:call:ball:pall\"\"\"\n",
    "\n",
    "print(re.sub(r\"^mall\\b\", \"1234\", para, flags=re.MULTILINE))"
   ]
  },
  {
   "cell_type": "code",
   "execution_count": null,
   "metadata": {},
   "outputs": [],
   "source": [
    "items = [\"lovely\", \"1\\ndentist\", \"2 lonely\", \"eden\", \"fly\\nfar\", \"dent\"]\n",
    "\n",
    "[\n",
    "    w\n",
    "    for w in items\n",
    "    if re.search(r\"^den\", w, flags=re.M) or re.search(r\"ly$\", w, flags=re.M)\n",
    "]"
   ]
  },
  {
   "cell_type": "code",
   "execution_count": null,
   "metadata": {},
   "outputs": [],
   "source": [
    "items = [\"12\\nthree\\n\", \"12\\nThree\", \"12\\nthree\\n4\", \"12\\nthree\"]\n",
    "\n",
    "[w for w in items if re.fullmatch(r\"12\\nThree\", w, flags=re.I)]"
   ]
  },
  {
   "cell_type": "code",
   "execution_count": null,
   "metadata": {},
   "outputs": [],
   "source": [
    "items = [\"handed\", \"hand\", \"handy\", \"un-handed\", \"handle\", \"hand-2\"]\n",
    "\n",
    "[re.sub(r\"hand\", \"X\", w) if re.search(r\"^hand\\B\", w) else w for w in items]"
   ]
  },
  {
   "cell_type": "code",
   "execution_count": null,
   "metadata": {},
   "outputs": [],
   "source": [
    "items = [\"handed\", \"hand\", \"handy\", \"un-handed\", \"handle\", \"hand-2\"]\n",
    "\n",
    "[re.sub(r\"e\", \"X\", w) for w in items if re.search(r\"^h\", w)]"
   ]
  },
  {
   "cell_type": "markdown",
   "metadata": {},
   "source": [
    "## Chapter 3 Alternation and Grouping"
   ]
  },
  {
   "cell_type": "code",
   "execution_count": null,
   "metadata": {},
   "outputs": [],
   "source": [
    "# TODO flashtext?"
   ]
  },
  {
   "cell_type": "code",
   "execution_count": null,
   "metadata": {},
   "outputs": [],
   "source": [
    "items = [\"lovely\", \"1\\ndentist\", \"2 lonely\", \"eden\", \"fly\\n\", \"dent\"]\n",
    "\n",
    "[w for w in items if re.search(r\"\\Aden|ly\\Z\", w)]"
   ]
  },
  {
   "cell_type": "code",
   "execution_count": null,
   "metadata": {},
   "outputs": [],
   "source": [
    "items = [\"lovely\", \"1\\ndentist\", \"2 lonely\", \"eden\", \"fly\\nfar\", \"dent\"]\n",
    "\n",
    "[w for w in items if re.search(r\"^den|ly$\", w, flags=re.M)]"
   ]
  },
  {
   "cell_type": "code",
   "execution_count": null,
   "metadata": {},
   "outputs": [],
   "source": [
    "s1 = \"creed refuse removed read\"\n",
    "s2 = \"refused reed redo received\"\n",
    "\n",
    "pat = re.compile(r\"removed|reed|received|refused\")\n",
    "\n",
    "pat.sub(\"X\", s1), pat.sub(\"X\", s2)"
   ]
  },
  {
   "cell_type": "code",
   "execution_count": null,
   "metadata": {},
   "outputs": [],
   "source": [
    "s1 = \"plate full of slate\"\n",
    "s2 = \"slated for later, don't be late\"\n",
    "\n",
    "words = [\"late\", \"later\", \"slated\"]\n",
    "pat = re.compile(\"|\".join(sorted(words, key=lambda x: len(x), reverse=True)))\n",
    "\n",
    "pat.sub(\"A\", s1), pat.sub(\"A\", s2)"
   ]
  },
  {
   "cell_type": "markdown",
   "metadata": {},
   "source": [
    "# Chapter 4 Escaping metacharacters"
   ]
  },
  {
   "cell_type": "code",
   "execution_count": null,
   "metadata": {},
   "outputs": [],
   "source": [
    "str1 = \"(9-2)*5+qty/3-(9-2)*7\"\n",
    "str2 = \"(qty+4)/2-(9-2)*5+pq/4\"\n",
    "\n",
    "re.sub(re.escape(r\"(9-2)*5\"), \"35\", str1), re.sub(re.escape(r\"(9-2)*5\"), \"35\", str2)"
   ]
  },
  {
   "cell_type": "code",
   "execution_count": null,
   "metadata": {},
   "outputs": [],
   "source": [
    "s1 = r\"2.3/(4)\\|6 foo 5.3-(4)\\|\"\n",
    "s2 = r\"(4)\\|42 - (4)\\|3\"\n",
    "s3 = \"two - (4)\\\\|\\n\"\n",
    "\n",
    "pattern = re.escape(r\"(4)\\|\")\n",
    "pattern = [r\"\\A\" + pattern, pattern + r\"\\Z\"]\n",
    "\n",
    "pat = re.compile(r\"|\".join(pattern))\n",
    "\n",
    "pat.sub(\"2\", s1), pat.sub(\"2\", s2), pat.sub(\"2\", s3)"
   ]
  },
  {
   "cell_type": "code",
   "execution_count": null,
   "metadata": {},
   "outputs": [],
   "source": [
    "items = [\"a.b\", \"3+n\", r\"x\\y\\z\", \"qty||price\", \"{n}\"]\n",
    "\n",
    "pattern = r\"|\".join([re.escape(s) for s in items])\n",
    "\n",
    "pat = re.compile(pattern)\n",
    "\n",
    "pat.sub(\"X\", \"0a.bcd\"), pat.sub(\"X\", \"E{n}AMPLE\"), pat.sub(\"X\", r\"43+n2 ax\\y\\ze\")"
   ]
  },
  {
   "cell_type": "code",
   "execution_count": null,
   "metadata": {},
   "outputs": [],
   "source": [
    "ip = \"123\\b456\"\n",
    "\n",
    "print(re.sub(r\"\\x08\", \" \", ip))"
   ]
  },
  {
   "cell_type": "code",
   "execution_count": null,
   "metadata": {},
   "outputs": [],
   "source": [
    "ip = r\"th\\er\\e ar\\e common asp\\ects among th\\e alt\\ernations\"\n",
    "re.sub(r\"\\\\\", \"\", ip)"
   ]
  },
  {
   "cell_type": "code",
   "execution_count": null,
   "metadata": {},
   "outputs": [],
   "source": [
    "ip = \"3-(a^b)+2*(a^b)-(a/b)+3\"\n",
    "eqns = [\"(a^b)\", \"(a/b)\", \"(a^b)+2\"]\n",
    "\n",
    "pat = \"|\".join([re.escape(s) for s in sorted(eqns, key=len)])"
   ]
  },
  {
   "cell_type": "code",
   "execution_count": null,
   "metadata": {},
   "outputs": [],
   "source": []
  }
 ],
 "metadata": {
  "kernelspec": {
   "display_name": ".venv",
   "language": "python",
   "name": "python3"
  },
  "language_info": {
   "codemirror_mode": {
    "name": "ipython",
    "version": 3
   },
   "file_extension": ".py",
   "mimetype": "text/x-python",
   "name": "python",
   "nbconvert_exporter": "python",
   "pygments_lexer": "ipython3",
   "version": "3.12.2"
  }
 },
 "nbformat": 4,
 "nbformat_minor": 2
}
