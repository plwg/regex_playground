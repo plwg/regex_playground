{
 "cells": [
  {
   "cell_type": "code",
   "execution_count": null,
   "metadata": {},
   "outputs": [],
   "source": [
    "import re"
   ]
  },
  {
   "cell_type": "markdown",
   "metadata": {},
   "source": [
    "# Chapter 1 Basic"
   ]
  },
  {
   "cell_type": "code",
   "execution_count": null,
   "metadata": {},
   "outputs": [],
   "source": [
    "line1 = \"start address: 0xA0, func1 address: 0xC0\"\n",
    "line2 = \"end address: 0xFF, func2 address: 0xB0\"\n",
    "\n",
    "pattern = r\"0xB0\"\n",
    "\n",
    "(bool(re.search(pattern, line1)), bool(re.search(pattern, line2)))"
   ]
  },
  {
   "cell_type": "code",
   "execution_count": null,
   "metadata": {},
   "outputs": [],
   "source": [
    "ip = \"They ate 5 apples and 5 oranges\"\n",
    "\n",
    "re.sub(r\"5\", \"five\", ip)"
   ]
  },
  {
   "cell_type": "code",
   "execution_count": null,
   "metadata": {},
   "outputs": [],
   "source": [
    "ip = \"They ate 5 apples and 5 oranges\"\n",
    "\n",
    "re.sub(r\"5\", \"five\", ip, count=1)"
   ]
  },
  {
   "cell_type": "code",
   "execution_count": null,
   "metadata": {},
   "outputs": [],
   "source": [
    "items = [\"goal\", \"new\", \"user\", \"sit\", \"eat\", \"dinner\"]\n",
    "[w for w in items if not re.search(r\"e\", w)]"
   ]
  },
  {
   "cell_type": "code",
   "execution_count": null,
   "metadata": {},
   "outputs": [],
   "source": [
    "ip = \"This note should not be NoTeD\"\n",
    "re.sub(r\"note\", \"X\", ip, flags=re.I)"
   ]
  },
  {
   "cell_type": "code",
   "execution_count": null,
   "metadata": {},
   "outputs": [],
   "source": [
    "ip = b\"tiger imp goat\"\n",
    "bool(re.search(rb\"at\", ip))"
   ]
  },
  {
   "cell_type": "code",
   "execution_count": null,
   "metadata": {},
   "outputs": [],
   "source": [
    "para = \"\"\"good start\n",
    "Start working on that\n",
    "project you always wanted\n",
    "stars are shining brightly\n",
    "hi there\n",
    "start and try to\n",
    "finish the book\n",
    "bye\"\"\"\n",
    "\n",
    "pat = re.compile(\"start\", flags=re.I)\n",
    "for line in para.split(\"\\n\"):\n",
    "    if not pat.search(line):\n",
    "        print(line)"
   ]
  },
  {
   "cell_type": "code",
   "execution_count": null,
   "metadata": {},
   "outputs": [],
   "source": [
    "items = [\"goal\", \"new\", \"user\", \"sit\", \"eat\", \"dinner\"]\n",
    "\n",
    "[w for w in items if re.search(r\"a\", w) or re.search(r\"w\", w)]"
   ]
  },
  {
   "cell_type": "code",
   "execution_count": null,
   "metadata": {},
   "outputs": [],
   "source": [
    "items = [\"goal\", \"new\", \"user\", \"sit\", \"eat\", \"dinner\"]\n",
    "[w for w in items if re.search(r\"e\", w) and re.search(r\"n\", w)]"
   ]
  },
  {
   "cell_type": "code",
   "execution_count": null,
   "metadata": {},
   "outputs": [],
   "source": [
    "ip = \"start address: 0xA0, func1 address: 0xC0\"\n",
    "ip = re.sub(r\"0xA0\", \"0x7F\", ip)\n",
    "ip = re.sub(r\"0xC0\", \"0x1F\", ip)\n",
    "ip"
   ]
  },
  {
   "cell_type": "markdown",
   "metadata": {},
   "source": [
    "## Chapter 2 - Anchor"
   ]
  },
  {
   "cell_type": "code",
   "execution_count": null,
   "metadata": {},
   "outputs": [],
   "source": [
    "line1 = \"be nice\"\n",
    "line2 = '\"best!\"'\n",
    "line3 = \"better?\"\n",
    "line4 = \"oh no\\nbear spotted\"\n",
    "pat = re.compile(r\"\\Abe\")\n",
    "\n",
    "(\n",
    "    bool(pat.search(line1)),\n",
    "    bool(pat.search(line2)),\n",
    "    bool(pat.search(line3)),\n",
    "    bool(pat.search(line4)),\n",
    ")"
   ]
  },
  {
   "cell_type": "code",
   "execution_count": null,
   "metadata": {},
   "outputs": [],
   "source": [
    "words = \"bred red spread credible red.\"\n",
    "\n",
    "re.sub(r\"\\bred\\b\", \"brown\", words)"
   ]
  },
  {
   "cell_type": "code",
   "execution_count": null,
   "metadata": {},
   "outputs": [],
   "source": [
    "words = [\"hi42bye\", \"nice1423\", \"bad42\", \"cool_42a\", \"42fake\", \"_42_\"]\n",
    "[w for w in words if re.search(r\"\\B42\\B\", w)]"
   ]
  },
  {
   "cell_type": "code",
   "execution_count": null,
   "metadata": {},
   "outputs": [],
   "source": [
    "items = [\"lovely\", \"1\\ndentist\", \"2 lonely\", \"eden\", \"fly\\n\", \"dent\"]\n",
    "\n",
    "[e for e in items if re.search(r\"\\Aden\", e) or re.search(r\"ly\\Z\", e)]"
   ]
  },
  {
   "cell_type": "code",
   "execution_count": null,
   "metadata": {},
   "outputs": [],
   "source": [
    "para = \"\"\"\n",
    "(mall) call ball pall\n",
    "ball fall wall tall\n",
    "mall call ball pall\n",
    "wall mall ball fall\n",
    "mallet wallet malls\n",
    "mall:call:ball:pall\"\"\"\n",
    "\n",
    "print(re.sub(r\"^mall\\b\", \"1234\", para, flags=re.MULTILINE))"
   ]
  },
  {
   "cell_type": "code",
   "execution_count": null,
   "metadata": {},
   "outputs": [],
   "source": [
    "items = [\"lovely\", \"1\\ndentist\", \"2 lonely\", \"eden\", \"fly\\nfar\", \"dent\"]\n",
    "\n",
    "[\n",
    "    w\n",
    "    for w in items\n",
    "    if re.search(r\"^den\", w, flags=re.M) or re.search(r\"ly$\", w, flags=re.M)\n",
    "]"
   ]
  },
  {
   "cell_type": "code",
   "execution_count": null,
   "metadata": {},
   "outputs": [],
   "source": [
    "items = [\"12\\nthree\\n\", \"12\\nThree\", \"12\\nthree\\n4\", \"12\\nthree\"]\n",
    "\n",
    "[w for w in items if re.fullmatch(r\"12\\nThree\", w, flags=re.I)]"
   ]
  },
  {
   "cell_type": "code",
   "execution_count": null,
   "metadata": {},
   "outputs": [],
   "source": [
    "items = [\"handed\", \"hand\", \"handy\", \"un-handed\", \"handle\", \"hand-2\"]\n",
    "\n",
    "[re.sub(r\"hand\", \"X\", w) if re.search(r\"^hand\\B\", w) else w for w in items]"
   ]
  },
  {
   "cell_type": "code",
   "execution_count": null,
   "metadata": {},
   "outputs": [],
   "source": [
    "items = [\"handed\", \"hand\", \"handy\", \"un-handed\", \"handle\", \"hand-2\"]\n",
    "\n",
    "[re.sub(r\"e\", \"X\", w) for w in items if re.search(r\"^h\", w)]"
   ]
  },
  {
   "cell_type": "markdown",
   "metadata": {},
   "source": [
    "## Chapter 3 Alternation and Grouping"
   ]
  },
  {
   "cell_type": "code",
   "execution_count": null,
   "metadata": {},
   "outputs": [],
   "source": [
    "# TODO flashtext?"
   ]
  },
  {
   "cell_type": "code",
   "execution_count": null,
   "metadata": {},
   "outputs": [],
   "source": [
    "items = [\"lovely\", \"1\\ndentist\", \"2 lonely\", \"eden\", \"fly\\n\", \"dent\"]\n",
    "\n",
    "[w for w in items if re.search(r\"\\Aden|ly\\Z\", w)]"
   ]
  },
  {
   "cell_type": "code",
   "execution_count": null,
   "metadata": {},
   "outputs": [],
   "source": [
    "items = [\"lovely\", \"1\\ndentist\", \"2 lonely\", \"eden\", \"fly\\nfar\", \"dent\"]\n",
    "\n",
    "[w for w in items if re.search(r\"^den|ly$\", w, flags=re.M)]"
   ]
  },
  {
   "cell_type": "code",
   "execution_count": null,
   "metadata": {},
   "outputs": [],
   "source": [
    "s1 = \"creed refuse removed read\"\n",
    "s2 = \"refused reed redo received\"\n",
    "\n",
    "pat = re.compile(r\"removed|reed|received|refused\")\n",
    "\n",
    "pat.sub(\"X\", s1), pat.sub(\"X\", s2)"
   ]
  },
  {
   "cell_type": "code",
   "execution_count": null,
   "metadata": {},
   "outputs": [],
   "source": [
    "s1 = \"plate full of slate\"\n",
    "s2 = \"slated for later, don't be late\"\n",
    "\n",
    "words = [\"late\", \"later\", \"slated\"]\n",
    "pat = re.compile(\"|\".join(sorted(words, key=lambda x: len(x), reverse=True)))\n",
    "\n",
    "pat.sub(\"A\", s1), pat.sub(\"A\", s2)"
   ]
  },
  {
   "cell_type": "markdown",
   "metadata": {},
   "source": [
    "# Chapter 4 Escaping metacharacters"
   ]
  },
  {
   "cell_type": "code",
   "execution_count": null,
   "metadata": {},
   "outputs": [],
   "source": [
    "str1 = \"(9-2)*5+qty/3-(9-2)*7\"\n",
    "str2 = \"(qty+4)/2-(9-2)*5+pq/4\"\n",
    "\n",
    "re.sub(re.escape(r\"(9-2)*5\"), \"35\", str1), re.sub(re.escape(r\"(9-2)*5\"), \"35\", str2)"
   ]
  },
  {
   "cell_type": "code",
   "execution_count": null,
   "metadata": {},
   "outputs": [],
   "source": [
    "s1 = r\"2.3/(4)\\|6 foo 5.3-(4)\\|\"\n",
    "s2 = r\"(4)\\|42 - (4)\\|3\"\n",
    "s3 = \"two - (4)\\\\|\\n\"\n",
    "\n",
    "pattern = re.escape(r\"(4)\\|\")\n",
    "pattern = [r\"\\A\" + pattern, pattern + r\"\\Z\"]\n",
    "\n",
    "pat = re.compile(r\"|\".join(pattern))\n",
    "\n",
    "pat.sub(\"2\", s1), pat.sub(\"2\", s2), pat.sub(\"2\", s3)"
   ]
  },
  {
   "cell_type": "code",
   "execution_count": null,
   "metadata": {},
   "outputs": [],
   "source": [
    "items = [\"a.b\", \"3+n\", r\"x\\y\\z\", \"qty||price\", \"{n}\"]\n",
    "\n",
    "pattern = r\"|\".join([re.escape(s) for s in items])\n",
    "\n",
    "pat = re.compile(pattern)\n",
    "\n",
    "pat.sub(\"X\", \"0a.bcd\"), pat.sub(\"X\", \"E{n}AMPLE\"), pat.sub(\"X\", r\"43+n2 ax\\y\\ze\")"
   ]
  },
  {
   "cell_type": "code",
   "execution_count": null,
   "metadata": {},
   "outputs": [],
   "source": [
    "ip = \"123\\b456\"\n",
    "\n",
    "print(re.sub(r\"\\x08\", \" \", ip))"
   ]
  },
  {
   "cell_type": "code",
   "execution_count": null,
   "metadata": {},
   "outputs": [],
   "source": [
    "ip = r\"th\\er\\e ar\\e common asp\\ects among th\\e alt\\ernations\"\n",
    "re.sub(r\"\\\\\", \"\", ip)"
   ]
  },
  {
   "cell_type": "code",
   "execution_count": null,
   "metadata": {},
   "outputs": [],
   "source": [
    "ip = \"3-(a^b)+2*(a^b)-(a/b)+3\"\n",
    "eqns = [\"(a^b)\", \"(a/b)\", \"(a^b)+2\"]\n",
    "\n",
    "pat = \"|\".join([re.escape(s) for s in sorted(eqns, key=len)])"
   ]
  },
  {
   "cell_type": "markdown",
   "metadata": {},
   "source": [
    "# Chapter 5 Dot metacharacter and Quantifiers"
   ]
  },
  {
   "cell_type": "code",
   "execution_count": null,
   "metadata": {},
   "outputs": [],
   "source": [
    "ip = \"a+42//5-c pressure*3+42/5-14256\"\n",
    "\n",
    "re.sub(r\"42/{1,2}5\", \"8\", ip)"
   ]
  },
  {
   "cell_type": "code",
   "execution_count": null,
   "metadata": {},
   "outputs": [],
   "source": [
    "items = [\"handed\", \"hand\", \"handled\", \"handy\", \"unhand\", \"hands\", \"handle\"]\n",
    "\n",
    "[w for w in items if re.search(r\"\\Ahand(.?|le)\\Z\", w)]"
   ]
  },
  {
   "cell_type": "code",
   "execution_count": null,
   "metadata": {},
   "outputs": [],
   "source": [
    "eqn1 = \"a+42//5-c\"\n",
    "eqn2 = \"pressure*3+42/5-14256\"\n",
    "eqn3 = \"r*42-5/3+42///5-42/53+a\"\n",
    "\n",
    "re.split(r\"42//5\", eqn1)\n",
    "re.split(r\"42/5\", eqn2)\n",
    "re.split(r\"42/5\", eqn3)"
   ]
  },
  {
   "cell_type": "code",
   "execution_count": null,
   "metadata": {},
   "outputs": [],
   "source": [
    "s1 = \"remove the special meaning of such constructs\"\n",
    "s2 = \"characters while constructing\"\n",
    "s3 = \"input output\"\n",
    "\n",
    "pat = re.compile(r\"i.*\")\n",
    "\n",
    "pat.sub(\"\", s1)\n",
    "pat.sub(\"\", s2)\n",
    "pat.sub(\"\", s3)"
   ]
  },
  {
   "cell_type": "code",
   "execution_count": null,
   "metadata": {},
   "outputs": [],
   "source": [
    "str1 = \"a+b(addition)\"\n",
    "str2 = \"a/b(division) + c%d(#modulo)\"\n",
    "str3 = \"Hi there(greeting). Nice day(a(b)\"\n",
    "\n",
    "remove_parentheses = re.compile(r\"\\(.*?\\)\")\n",
    "\n",
    "remove_parentheses.sub(\"\", str1)\n",
    "remove_parentheses.sub(\"\", str2)\n",
    "remove_parentheses.sub(\"\", str3)"
   ]
  },
  {
   "cell_type": "code",
   "execution_count": null,
   "metadata": {},
   "outputs": [],
   "source": [
    "words = \"plink incoming tint winter in caution sentient\"\n",
    "\n",
    "change = re.compile(r\"in(ter|co|t|g|k)?|ion\")\n",
    "change.sub(\"X\", words)"
   ]
  },
  {
   "cell_type": "code",
   "execution_count": null,
   "metadata": {},
   "outputs": [],
   "source": [
    "s1 = \"this is a Test\"\n",
    "s2 = \"always test your RE for corner cases\"\n",
    "s3 = \"a TEST of skill tests?\"\n",
    "pat = re.compile(r\"(test.+){1,}\", flags=re.I)\n",
    "pat.sub(\"\", s1)\n",
    "pat.sub(\"\", s2)\n",
    "pat.sub(\"\", s3)"
   ]
  },
  {
   "cell_type": "code",
   "execution_count": null,
   "metadata": {},
   "outputs": [],
   "source": [
    "words = [\"sequoia\", \"subtle\", \"exhibit\", \"a set\", \"sets\", \"tests\", \"site\"]\n",
    "\n",
    "[w for w in words if re.search(r\"\\As.*(e.*t|t.*e)\", w)]"
   ]
  },
  {
   "cell_type": "code",
   "execution_count": null,
   "metadata": {},
   "outputs": [],
   "source": [
    "words = [\"sequoia\", \"subtle\", \"exhibit\", \"asset\", \"sets\", \"tests\", \"site\"]\n",
    "\n",
    "[w for w in words if re.search(r\".{6,}\", w)]"
   ]
  },
  {
   "cell_type": "code",
   "execution_count": null,
   "metadata": {},
   "outputs": [],
   "source": [
    "words = [\"sequoia\", \"subtle\", \"exhibit\", \"asset\", \"sets\", \"t set\", \"site\"]\n",
    "\n",
    "[w for w in words if re.search(r\"\\A(s|t).{,5}\\Z\", w)]"
   ]
  },
  {
   "cell_type": "code",
   "execution_count": null,
   "metadata": {},
   "outputs": [],
   "source": [
    "ip = \"a<apple> 1<> b<bye> 2<> c<cat>\"\n",
    "\n",
    "re.sub(r\"<.+?>\", \"\", ip)"
   ]
  },
  {
   "cell_type": "code",
   "execution_count": null,
   "metadata": {},
   "outputs": [],
   "source": [
    "s1 = 'go there // \"this // that\"'\n",
    "s2 = \"a//b // c//d e//f // 4//5\"\n",
    "s3 = \"42// hi//bye//see // carefully\"\n",
    "pat = re.compile(r\" {1,}// {1,}\")\n",
    "pat.split(s1, maxsplit=1)\n",
    "pat.split(s2, maxsplit=1)\n",
    "pat.split(s3, maxsplit=1)"
   ]
  },
  {
   "cell_type": "code",
   "execution_count": null,
   "metadata": {},
   "outputs": [],
   "source": [
    "s1 = \"appleabcabcabcapricot\"\n",
    "s2 = \"bananabcabcabcdelicious\"\n",
    "\n",
    "pat = re.compile(r\"(abc)++a\")\n",
    "\n",
    "bool(pat.search(s1))\n",
    "bool(pat.search(s2))"
   ]
  },
  {
   "cell_type": "code",
   "execution_count": null,
   "metadata": {},
   "outputs": [],
   "source": [
    "cast = \"dragon-unicorn--centaur---mage----healer\"\n",
    "c = \"-\"\n",
    "re.sub(rf'{c}{'{3,}'}', c, cast)"
   ]
  },
  {
   "cell_type": "markdown",
   "metadata": {},
   "source": [
    "# Chapter 6 Working with Matched Portions"
   ]
  },
  {
   "cell_type": "code",
   "execution_count": null,
   "metadata": {},
   "outputs": [],
   "source": [
    "str1 = \"This the biggest fruit you have seen?\"\n",
    "str2 = \"Your mission is to read and practice consistently\"\n",
    "\n",
    "pat = re.compile(r\"(is.*t)\")\n",
    "\n",
    "pat.search(str1)[1]\n",
    "pat.search(str2)[1]"
   ]
  },
  {
   "cell_type": "code",
   "execution_count": null,
   "metadata": {},
   "outputs": [],
   "source": [
    "s1 = \"match after the last newline character\"\n",
    "s2 = \"and then you want to test\"\n",
    "s3 = \"this is good bye then\"\n",
    "s4 = \"who was there to see?\"\n",
    "\n",
    "pat = re.compile(r\"(is|the|was|to)\")\n",
    "\n",
    "pat.search(s1).start(1)\n",
    "pat.search(s2).start(1)\n",
    "pat.search(s3).start(1)\n",
    "pat.search(s4).start(1)"
   ]
  },
  {
   "cell_type": "code",
   "execution_count": null,
   "metadata": {},
   "outputs": [],
   "source": [
    "s1 = \"match after the last newline character\"\n",
    "s2 = \"and then you want to test\"\n",
    "s3 = \"this is good bye then\"\n",
    "s4 = \"who was there to see?\"\n",
    "\n",
    "pat = re.compile(r\".*(is|the|was|to)\")\n",
    "\n",
    "pat.search(s1).start(1)\n",
    "pat.search(s2).start(1)\n",
    "pat.search(s3).start(1)\n",
    "pat.search(s4).start(1)"
   ]
  },
  {
   "cell_type": "code",
   "execution_count": null,
   "metadata": {},
   "outputs": [],
   "source": [
    "ip = \"fruits:apple, mango, guava, blueberry\"\n",
    "\n",
    "re.search(r\".*:(.*)\", ip).group(1)"
   ]
  },
  {
   "cell_type": "code",
   "execution_count": null,
   "metadata": {},
   "outputs": [],
   "source": [
    "import math\n",
    "\n",
    "s1 = \"first-3.14\"\n",
    "s2 = \"next-123\"\n",
    "pat = re.compile(r\"(.*-)(.*)\")\n",
    "\n",
    "pat.sub(lambda x: x[1] + str(math.log(float(x[2]))), s1)\n",
    "pat.sub(lambda x: x[1] + str(math.log(float(x[2]))), s2)"
   ]
  },
  {
   "cell_type": "code",
   "execution_count": null,
   "metadata": {},
   "outputs": [],
   "source": [
    "dict = {\"par\": \"spar\", \"spare\": \"extra\", \"park\": \"garden\"}\n",
    "\n",
    "str1 = \"apartment has a park\"\n",
    "str2 = \"do you have a spare cable\"\n",
    "str3 = \"write a parser\"\n",
    "\n",
    "pat = \"|\".join(sorted(dict.keys(), key=len, reverse=True))\n",
    "\n",
    "pat = re.compile(pat)\n",
    "pat.sub(lambda m: dict[m[0]], str1)\n",
    "# pat.sub(lambda m: dict[m[0]], str2)\n",
    "# pat.sub(lambda m: dict[m[0]], str3)"
   ]
  },
  {
   "cell_type": "code",
   "execution_count": null,
   "metadata": {},
   "outputs": [],
   "source": [
    "ip = \"another (way) to reuse (portion) matched (by) capture groups\"\n",
    "re.findall(r\"\\((.*?)\\)\", ip)"
   ]
  },
  {
   "cell_type": "code",
   "execution_count": null,
   "metadata": {},
   "outputs": [],
   "source": [
    "ip = \"a<apple> 1<> b<bye> 2<> c<cat>\"\n",
    "re.findall(r\"<.+?>\", ip)"
   ]
  },
  {
   "cell_type": "code",
   "execution_count": null,
   "metadata": {},
   "outputs": [],
   "source": [
    "row1 = \"-2,5 4,+3 +42,-53 4356246,-357532354 \"\n",
    "row2 = \"1.32,-3.14 634,5.63 63.3e3,9907809345343.235 \"\n",
    "pat = re.compile(r\"(.*?),(.*?) \")\n",
    "pat.findall(row1)\n",
    "pat.findall(row2)"
   ]
  },
  {
   "cell_type": "code",
   "execution_count": null,
   "metadata": {},
   "outputs": [],
   "source": [
    "row1 = \"-2,5 4,+3 +42,-53 4356246,-357532354 \"\n",
    "row2 = \"1.32,-3.14 634,5.63 63.3e3,9907809345343.235 \"\n",
    "pat = re.compile(r\"(.*?),(.*?) \")\n",
    "\n",
    "[int(m[1]) + int(m[2]) for m in pat.finditer(row1)]\n",
    "[float(m[1]) + float(m[2]) for m in pat.finditer(row2)]"
   ]
  },
  {
   "cell_type": "code",
   "execution_count": null,
   "metadata": {},
   "outputs": [],
   "source": [
    "ip = \"42:no-output;1000:car-tr:u-ck;SQEX49801\"\n",
    "\n",
    "re.split(r\":.+?-(.+?);\", ip)"
   ]
  },
  {
   "cell_type": "code",
   "execution_count": null,
   "metadata": {},
   "outputs": [],
   "source": [
    "words = [\"sequoia\", \"attest\", \"tattletale\", \"asset\"]\n",
    "\n",
    "[(w, len(re.findall(\"t\", w))) for w in words]"
   ]
  },
  {
   "cell_type": "code",
   "execution_count": null,
   "metadata": {},
   "outputs": [],
   "source": [
    "ip = \"TWXA42:JWPA:NTED01:\"\n",
    "\n",
    "[m.groups(\"NA\") for m in re.finditer(r\"(.{4})(.{2})?:\", ip)]"
   ]
  },
  {
   "cell_type": "code",
   "execution_count": null,
   "metadata": {},
   "outputs": [],
   "source": [
    "row1 = \"name:rohan,maths:75,phy:89,\"\n",
    "row2 = \"name:rose,maths:88,phy:92,\"\n",
    "pat = re.compile(r\"(.*?):(.*?),\")\n",
    "{m[1]: m[2] for m in pat.finditer(row1)}\n",
    "{m[1]: m[2] for m in pat.finditer(row2)}"
   ]
  }
 ],
 "metadata": {
  "kernelspec": {
   "display_name": ".venv",
   "language": "python",
   "name": "python3"
  },
  "language_info": {
   "codemirror_mode": {
    "name": "ipython",
    "version": 3
   },
   "file_extension": ".py",
   "mimetype": "text/x-python",
   "name": "python",
   "nbconvert_exporter": "python",
   "pygments_lexer": "ipython3",
   "version": "3.12.2"
  }
 },
 "nbformat": 4,
 "nbformat_minor": 2
}
